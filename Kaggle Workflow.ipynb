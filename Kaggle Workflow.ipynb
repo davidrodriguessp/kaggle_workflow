{
 "cells": [
  {
   "cell_type": "markdown",
   "metadata": {},
   "source": [
    "*Author: David Rodrigues* | https://www.linkedin.com/in/davidrodrigues/ | davidrodriguessp@hotmail.com | https://github.com/davidrodriguessp\n",
    "\n",
    "# Building a Workflow to Compete in Kaggle: Predicting which Passengers Survived the Titanic Shipwreck\n",
    "\n",
    "![titanic](https://images.unsplash.com/photo-1500077423678-25eead48513a?ixlib=rb-1.2.1&ixid=MnwxMjA3fDB8MHxwaG90by1wYWdlfHx8fGVufDB8fHx8&auto=format&fit=crop&w=2070&q=80)\n",
    "\n",
    "<center>Photo by Руслан Гамзалиев on Unsplash</center>\n",
    "\n",
    "The objective of this project is to provide a guide on how to build a project to take part in Kaggle competitions. [Kaggle](https://www.kaggle.com/)  is a website in which companies propose a challenge in which machine leaning practitioners compete and try to provide the best algorithm to predict a phenomenon. The one that manages to reach the best accuracy wins the competition and receives an award.\n",
    "\n",
    "For this project we used the famous [Titanic](https://www.kaggle.com/c/titanic) competition, in which a dataset with passanger characteristics is provided and participants need to build a model to try to predict passangers survival. Two datasets are available in the website: the training set (`train.csv`) and test set (`test.csv`). [Here](https://www.kaggle.com/c/titanic/data) you will find the datasets and a data dictionary describing each of the columns.\n",
    "\n",
    "The workflow follows the 7 steps below:\n",
    "1. **Objective**: define the *question to be answered* and the objective of the project.\n",
    "2. **Data cleaning**: remove irrelevant columns, deal with missing values, deal with non-numerical data, check for class imbalance.\n",
    "3. **Data exploration and Feature Engeneering**: find patterns and relations between columns and do feature engeneering, that is, create new features out of the ones available in the raw data.\n",
    "4. **Feature selection**: select the best subset of features, check for collinearity and relationship with the target column.\n",
    "5. **Model selection/tuning**: training a number of models with different hyperparameters to find the best performer.\n",
    "6. **Final Model**: train the final model with all training data available and make predictions.\n",
    "7. **Submission**: create a file to submite to Kaggle."
   ]
  },
  {
   "cell_type": "markdown",
   "metadata": {},
   "source": [
    "# 1. Objective and Question to Be Answered\n",
    "In the case of the Titanic competition, the objective is to build a model to predict whether a passanger survived or not.\n",
    "\n",
    "We can define the question to be answered as:\n",
    "\n",
    "<font size=3>*How can we predict survival for a passanger on the Titanic based on her personal characteristics?*<font size>"
   ]
  },
  {
   "cell_type": "markdown",
   "metadata": {},
   "source": [
    "# 2. Data Cleaning\n",
    "We were provided with two datasets from Kaggle, `train.csv` and `test.csv`. All model development will be conducted on the `train` dataset, since it is the one that includes the information on passangers' survival. The other dataset, `test`, includes only the other columns. \n",
    "\n",
    "It is important to notice that all data processing and transformation we perform in the training set will also need to be done in the test dataset. That's why during the project we will create functions that allow us to perform the operations on a new data set.\n",
    "\n",
    "We start by reading the files into Pandas and renaming the `test` dataset into `holdout`."
   ]
  },
  {
   "cell_type": "code",
   "execution_count": 1,
   "metadata": {
    "scrolled": true
   },
   "outputs": [
    {
     "data": {
      "text/html": [
       "<div>\n",
       "<style scoped>\n",
       "    .dataframe tbody tr th:only-of-type {\n",
       "        vertical-align: middle;\n",
       "    }\n",
       "\n",
       "    .dataframe tbody tr th {\n",
       "        vertical-align: top;\n",
       "    }\n",
       "\n",
       "    .dataframe thead th {\n",
       "        text-align: right;\n",
       "    }\n",
       "</style>\n",
       "<table border=\"1\" class=\"dataframe\">\n",
       "  <thead>\n",
       "    <tr style=\"text-align: right;\">\n",
       "      <th></th>\n",
       "      <th>PassengerId</th>\n",
       "      <th>Pclass</th>\n",
       "      <th>Name</th>\n",
       "      <th>Sex</th>\n",
       "      <th>Age</th>\n",
       "      <th>SibSp</th>\n",
       "      <th>Parch</th>\n",
       "      <th>Ticket</th>\n",
       "      <th>Fare</th>\n",
       "      <th>Cabin</th>\n",
       "      <th>Embarked</th>\n",
       "    </tr>\n",
       "  </thead>\n",
       "  <tbody>\n",
       "    <tr>\n",
       "      <th>0</th>\n",
       "      <td>892</td>\n",
       "      <td>3</td>\n",
       "      <td>Kelly, Mr. James</td>\n",
       "      <td>male</td>\n",
       "      <td>34.5</td>\n",
       "      <td>0</td>\n",
       "      <td>0</td>\n",
       "      <td>330911</td>\n",
       "      <td>7.8292</td>\n",
       "      <td>NaN</td>\n",
       "      <td>Q</td>\n",
       "    </tr>\n",
       "    <tr>\n",
       "      <th>1</th>\n",
       "      <td>893</td>\n",
       "      <td>3</td>\n",
       "      <td>Wilkes, Mrs. James (Ellen Needs)</td>\n",
       "      <td>female</td>\n",
       "      <td>47.0</td>\n",
       "      <td>1</td>\n",
       "      <td>0</td>\n",
       "      <td>363272</td>\n",
       "      <td>7.0000</td>\n",
       "      <td>NaN</td>\n",
       "      <td>S</td>\n",
       "    </tr>\n",
       "  </tbody>\n",
       "</table>\n",
       "</div>"
      ],
      "text/plain": [
       "   PassengerId  Pclass                              Name     Sex   Age  SibSp  \\\n",
       "0          892       3                  Kelly, Mr. James    male  34.5      0   \n",
       "1          893       3  Wilkes, Mrs. James (Ellen Needs)  female  47.0      1   \n",
       "\n",
       "   Parch  Ticket    Fare Cabin Embarked  \n",
       "0      0  330911  7.8292   NaN        Q  \n",
       "1      0  363272  7.0000   NaN        S  "
      ]
     },
     "execution_count": 1,
     "metadata": {},
     "output_type": "execute_result"
    }
   ],
   "source": [
    "import pandas as pd\n",
    "train = pd.read_csv('train.csv')\n",
    "holdout = pd.read_csv('test.csv')\n",
    "holdout.head(2)"
   ]
  },
  {
   "cell_type": "markdown",
   "metadata": {},
   "source": [
    "## Remove Columns and Deal with Missing Values\n",
    "The `PassengerId` and `Ticket` seem not to be relevant to our objective. We will create a function `remove_columns( )` to remove these two."
   ]
  },
  {
   "cell_type": "code",
   "execution_count": 2,
   "metadata": {},
   "outputs": [],
   "source": [
    "# Create a function to remove the columns we will not use for modeling\n",
    "def remove_columns(df):\n",
    "    '''This function takes a dataframe and removes the columns PassengerId, Ticket and Name,\n",
    "    returning a new dataframe without these two columns.''' \n",
    "    df = df.drop(['PassengerId', 'Ticket'], axis=1)\n",
    "    return df"
   ]
  },
  {
   "cell_type": "markdown",
   "metadata": {},
   "source": [
    "Let's check for missing values in our dataset. We need to check both the `train` and `holdout` (`test`) datasets for missing values."
   ]
  },
  {
   "cell_type": "code",
   "execution_count": 3,
   "metadata": {},
   "outputs": [
    {
     "name": "stdout",
     "output_type": "stream",
     "text": [
      "Percentage of Missing in Train:  \n",
      " PassengerId    0.000000\n",
      "Survived       0.000000\n",
      "Pclass         0.000000\n",
      "Name           0.000000\n",
      "Sex            0.000000\n",
      "Age            0.198653\n",
      "SibSp          0.000000\n",
      "Parch          0.000000\n",
      "Ticket         0.000000\n",
      "Fare           0.000000\n",
      "Cabin          0.771044\n",
      "Embarked       0.002245\n",
      "dtype: float64\n",
      "\n",
      "\n",
      "Percentage of Missing in Holdout:  \n",
      " PassengerId    0.000000\n",
      "Pclass         0.000000\n",
      "Name           0.000000\n",
      "Sex            0.000000\n",
      "Age            0.205742\n",
      "SibSp          0.000000\n",
      "Parch          0.000000\n",
      "Ticket         0.000000\n",
      "Fare           0.002392\n",
      "Cabin          0.782297\n",
      "Embarked       0.000000\n",
      "dtype: float64\n"
     ]
    }
   ],
   "source": [
    "# Check for missing values in the train and holdout dataset. Display the percentage of missing values per column\n",
    "print('Percentage of Missing in Train: ', '\\n', train.isnull().sum() / train.shape[0])\n",
    "print('\\n')\n",
    "print('Percentage of Missing in Holdout: ', '\\n', holdout.isnull().sum() / holdout.shape[0])"
   ]
  },
  {
   "cell_type": "markdown",
   "metadata": {},
   "source": [
    "`Cabin` has nearly 80% of values missing. We will update the `remove_columns()` function and remove it as well. `Age` has 20% of values missing, but seems to be an important column to predict survival. We will keep it and deal with its missing values. \n",
    "\n",
    "`Embarked` has only 0.2% of values missing. As it is a categorical column, we will fill it with the most frequent value. `Fare` has missing values only in the `holdout` dataset, but we will need to deal with them. As they are only 0.2%, we will fill them with the mean."
   ]
  },
  {
   "cell_type": "code",
   "execution_count": 4,
   "metadata": {},
   "outputs": [],
   "source": [
    "# Update the remove_columns() function to remove the Cabin column.\n",
    "def remove_columns(df):\n",
    "    '''This function takes a dataframe and removes the columns PassengerId, Ticket and Name, and Cabin\n",
    "    returning a new dataframe without these two columns.''' \n",
    "    df = df.drop(['PassengerId', 'Ticket', 'Cabin'], axis=1)\n",
    "    return df"
   ]
  },
  {
   "cell_type": "code",
   "execution_count": 5,
   "metadata": {},
   "outputs": [
    {
     "data": {
      "text/plain": [
       "S    644\n",
       "C    168\n",
       "Q     77\n",
       "Name: Embarked, dtype: int64"
      ]
     },
     "execution_count": 5,
     "metadata": {},
     "output_type": "execute_result"
    }
   ],
   "source": [
    "# Exploring the Embarked column\n",
    "train.Embarked.value_counts()"
   ]
  },
  {
   "cell_type": "markdown",
   "metadata": {},
   "source": [
    "The most common value in the `Embarked` column is `S`, which stands for the port of Southampton. Let's fill the missing values in this column with this most frequent value."
   ]
  },
  {
   "cell_type": "code",
   "execution_count": 6,
   "metadata": {},
   "outputs": [],
   "source": [
    "# Create a function to fill the Embarked missing values with S\n",
    "def process_Embarked(df):\n",
    "    '''This function accepts as input a dataframe and fills the missing values for the Embarked\n",
    "    column with the value of S, which stands for the Southamptom port.'''\n",
    "    df['Embarked'] = df['Embarked'].fillna('S')\n",
    "    return df"
   ]
  },
  {
   "cell_type": "markdown",
   "metadata": {},
   "source": [
    "Now, let's deal with the missing values in the `Fare` column. As it is a numeric column with a very small number of missing, we will fill them with the mean."
   ]
  },
  {
   "cell_type": "code",
   "execution_count": 7,
   "metadata": {},
   "outputs": [],
   "source": [
    "# Create a function to fill the Fare column missing values with the mean\n",
    "def process_Fare(df):\n",
    "    '''This funciton accepts as input a dataframe and fills the missing values for the Fare\n",
    "    column with the mean.'''\n",
    "    df['Fare'] = df['Fare'].fillna(df['Fare'].mean())\n",
    "    return df"
   ]
  },
  {
   "cell_type": "markdown",
   "metadata": {},
   "source": [
    "The tricky one is `Age`. It is a numeric column, but it is risky to fill all values with the mean since they are too many, close to 20%.\n",
    "\n",
    "We will fill these missing values with negative 1. This will allow us to identify and them later, and most probably convet it into a categorical variable."
   ]
  },
  {
   "cell_type": "code",
   "execution_count": 8,
   "metadata": {},
   "outputs": [],
   "source": [
    "# Fill missing values in the Age colum with -1.\n",
    "def process_Age(df):\n",
    "    '''This funciton will take a dataframe as input, fill all values for the Age column that are missing\n",
    "    with -1, and return a new dataframe.'''\n",
    "    df['Age'] = df['Age'].fillna(-1)\n",
    "    return df"
   ]
  },
  {
   "cell_type": "markdown",
   "metadata": {},
   "source": [
    "## Dealing with Non-Numeric Data and Checking for Class Imbalance\n",
    "Let's check first for the potential issue of Class Imbalance. When we analyze the target column in a binary classification problem, sometimes one class is much more frequent than the other. For example, in our case there could be the case that most passangers survived or did not survive. When this happend, the accuracy measured in Machine Learning models tend to be biased towards the most frequent class. "
   ]
  },
  {
   "cell_type": "code",
   "execution_count": 9,
   "metadata": {},
   "outputs": [
    {
     "name": "stdout",
     "output_type": "stream",
     "text": [
      "Frequency for the Train Dataset:  \n",
      " 0    0.616162\n",
      "1    0.383838\n",
      "Name: Survived, dtype: float64\n"
     ]
    }
   ],
   "source": [
    "# Calculate the values frequency for the Survived column\n",
    "print('Frequency for the Train Dataset: ', '\\n', train['Survived'].value_counts(normalize=True))"
   ]
  },
  {
   "cell_type": "markdown",
   "metadata": {},
   "source": [
    "The distribution between Survived and Not-Survived is about 40/60. This shows that our data is considerably balanced. We can go on with the analysis without worrying about class imbalance.\n",
    "\n",
    "Let's now deal with the non-numeric columns: `Pclass`, `Sex`, `Embarked` and `Name`. In Machine Learning we can only use numeric values for modeling, so let's process these columns and convert them into dummy variables.\n",
    "\n",
    "Besides, we know that if a categorical variable has `n` values, we need only `n-1` dummy columns to represent it, so while converting them, we will drop the first category. The category we drop we will consier as the *reference* column to interpret the others. Let's create a function to convert these columns into dummies.\n",
    "\n",
    "Before we convert them into dummy variables, let's clean the `Name` column.\n",
    "\n",
    "### Processing the Name Column\n",
    "The name column has text values. We need to extract information we are able to analyze from it. Let´s see the first rows."
   ]
  },
  {
   "cell_type": "code",
   "execution_count": 10,
   "metadata": {
    "scrolled": false
   },
   "outputs": [
    {
     "data": {
      "text/plain": [
       "0                              Braund, Mr. Owen Harris\n",
       "1    Cumings, Mrs. John Bradley (Florence Briggs Th...\n",
       "2                               Heikkinen, Miss. Laina\n",
       "3         Futrelle, Mrs. Jacques Heath (Lily May Peel)\n",
       "4                             Allen, Mr. William Henry\n",
       "Name: Name, dtype: object"
      ]
     },
     "execution_count": 10,
     "metadata": {},
     "output_type": "execute_result"
    }
   ],
   "source": [
    "# Display the first rows of the Name column\n",
    "train.Name.head(5)"
   ]
  },
  {
   "cell_type": "markdown",
   "metadata": {},
   "source": [
    "Each name is unique, so it will not help in our analysis. However, we see that each name includes a title. There is a pattern for each title: a comma, a space, the title and a period. Let's extract the titles taking into account this pattern and save them in a new variable."
   ]
  },
  {
   "cell_type": "code",
   "execution_count": 11,
   "metadata": {},
   "outputs": [],
   "source": [
    "# Create a new variable titles for both the train and holdout datasets\n",
    "titles_train = train['Name'].str.extract(\" ([a-zA-Z]+)\\.\")\n",
    "titles_holdout = holdout['Name'].str.extract(\" ([a-zA-Z]+)\\.\")"
   ]
  },
  {
   "cell_type": "markdown",
   "metadata": {},
   "source": [
    "Now, let´s see the unique titles that we have inside the train and also in the holdout datasets. Remember that all operations will have to be done in both datasets."
   ]
  },
  {
   "cell_type": "code",
   "execution_count": 12,
   "metadata": {
    "scrolled": true
   },
   "outputs": [
    {
     "name": "stdout",
     "output_type": "stream",
     "text": [
      "Unique Titles in the Train Dataset:  \n",
      " ['Mr' 'Mrs' 'Miss' 'Master' 'Don' 'Rev' 'Dr' 'Mme' 'Ms' 'Major' 'Lady'\n",
      " 'Sir' 'Mlle' 'Col' 'Capt' 'Countess' 'Jonkheer']\n",
      "\n",
      "\n",
      "Unique Titles in the Holdout Dataset:  \n",
      " ['Mr' 'Mrs' 'Miss' 'Master' 'Ms' 'Col' 'Rev' 'Dr' 'Dona']\n"
     ]
    }
   ],
   "source": [
    "# Print the unique titles in both the train and holdout datasets\n",
    "print('Unique Titles in the Train Dataset: ', '\\n', titles_train[0].unique())\n",
    "print('\\n')\n",
    "print('Unique Titles in the Holdout Dataset: ', '\\n', titles_holdout[0].unique())"
   ]
  },
  {
   "cell_type": "markdown",
   "metadata": {},
   "source": [
    "The only title included in the holdout dataset that is not in the train dataset is `Dona`. Let's create a list with the complete list of titles."
   ]
  },
  {
   "cell_type": "code",
   "execution_count": 13,
   "metadata": {},
   "outputs": [
    {
     "name": "stdout",
     "output_type": "stream",
     "text": [
      "['Mr', 'Mrs', 'Miss', 'Master', 'Don', 'Rev', 'Dr', 'Mme', 'Ms', 'Major', 'Lady', 'Sir', 'Mlle', 'Col', 'Capt', 'Countess', 'Jonkheer', 'Dona']\n"
     ]
    }
   ],
   "source": [
    "# Complete list of titles\n",
    "titles = list(titles_train[0].unique()) + list(['Dona'])\n",
    "print(titles)"
   ]
  },
  {
   "cell_type": "markdown",
   "metadata": {},
   "source": [
    "There are 18 different titles. To make modeling simpler, let' reclassify them into three categories: `common`, `officer` and `royalty`. Let's create a function to extract the titles in a new column `titles` and convert them into the three categories."
   ]
  },
  {
   "cell_type": "code",
   "execution_count": 14,
   "metadata": {},
   "outputs": [],
   "source": [
    "# Create a function to process the name function\n",
    "def process_Name (df):\n",
    "    '''This function accepts a dataframe as input, extracts the title from the Name column into a new column called\n",
    "    Title, and convert the titles according to the dictionary into three categories: common, officer and royalty.\n",
    "    Finally, the function removes the original column Name.'''\n",
    "    # Dictionary to convert the titles into 3 categories\n",
    "    title_dict = {\n",
    "        \"Mr\" :         \"common\",\n",
    "        \"Mme\":         \"common\",\n",
    "        \"Ms\":          \"common\",\n",
    "        \"Mrs\" :        \"common\",\n",
    "        \"Master\" :     \"common\",\n",
    "        \"Mlle\":        \"common\",\n",
    "        \"Miss\" :       \"common\",\n",
    "        \"Capt\":        \"officer\",\n",
    "        \"Col\":         \"officer\",\n",
    "        \"Major\":       \"officer\",\n",
    "        \"Dr\":          \"officer\",\n",
    "        \"Rev\":         \"officer\",\n",
    "        \"Jonkheer\":    \"royalty\",\n",
    "        \"Don\":         \"royalty\",\n",
    "        \"Sir\" :        \"royalty\",\n",
    "        \"Countess\":    \"royalty\",\n",
    "        \"Dona\":        \"royalty\",\n",
    "        \"Lady\" :       \"royalty\"\n",
    "    }\n",
    "    df['Title'] = df['Name'].str.extract(', ([A-Za-z]+)\\.')\n",
    "    df['Title'] = df['Title'].map(title_dict)\n",
    "    df = df.drop('Name', axis=1)\n",
    "    return df"
   ]
  },
  {
   "cell_type": "markdown",
   "metadata": {},
   "source": [
    "### Creating Dummy Columns for each Categorical Variable\n",
    "Most Machine Learning algorithms can only be applied to numeric values. We will need to convert each of our categorical columns into dummies."
   ]
  },
  {
   "cell_type": "code",
   "execution_count": 15,
   "metadata": {},
   "outputs": [],
   "source": [
    "# Create a function to convert the three categorical columns Pclass, Sex and Embarked into Dummies\n",
    "def convert_dummies(df):\n",
    "    '''This function will take a dataframe as input, and convert the columns Pclass, Sex, Embarked and Title\n",
    "    into dummy variables. It will also drop the first category which will act as the reference, and\n",
    "    drop the original categorical columns that contained all categories.'''\n",
    "    categories = ['Pclass', 'Sex', 'Embarked', 'Title']\n",
    "    for category in categories:\n",
    "        dummies = pd.get_dummies(df[category], drop_first=True, prefix=category)\n",
    "        df = pd.concat([df, dummies], axis=1)\n",
    "        df = df.drop(category, axis=1)\n",
    "    return df"
   ]
  },
  {
   "cell_type": "markdown",
   "metadata": {},
   "source": [
    "For `Pclass`, we ended up with two columns: `class_2` and one for `class_3`, this makes `class_1` our reference column. As for `Sex`, we kept only the `Male` column, and for `Embarked`, the ports `Q` and `S`. For `Title`, we will have two columns: `officer` and `royalty`.\n",
    "\n",
    "Now that we finished the Cleaning phase, let's create a function that combines all steps for data cleaning and returns a new cleaned dataset.\n",
    "\n",
    "## Create a Function to Combine All Preprocessing Steps"
   ]
  },
  {
   "cell_type": "code",
   "execution_count": 16,
   "metadata": {},
   "outputs": [],
   "source": [
    "# Create a function that includes all steps performed for data cleaning\n",
    "def preprocess(df):\n",
    "    '''This function takes a dataframe as input and applies the functions to remove some of the original columns,\n",
    "    deals with missing values and non-numeric columns. '''\n",
    "    df = remove_columns(df)\n",
    "    df = process_Embarked(df)\n",
    "    df = process_Fare(df)\n",
    "    df = process_Age(df)\n",
    "    df = process_Name(df)\n",
    "    df = convert_dummies(df)\n",
    "    return df"
   ]
  },
  {
   "cell_type": "markdown",
   "metadata": {},
   "source": [
    "Now, we can use the function `preprocess()` on the `train` dataset to verify how our clean data looks."
   ]
  },
  {
   "cell_type": "code",
   "execution_count": 17,
   "metadata": {
    "scrolled": true
   },
   "outputs": [
    {
     "data": {
      "text/html": [
       "<div>\n",
       "<style scoped>\n",
       "    .dataframe tbody tr th:only-of-type {\n",
       "        vertical-align: middle;\n",
       "    }\n",
       "\n",
       "    .dataframe tbody tr th {\n",
       "        vertical-align: top;\n",
       "    }\n",
       "\n",
       "    .dataframe thead th {\n",
       "        text-align: right;\n",
       "    }\n",
       "</style>\n",
       "<table border=\"1\" class=\"dataframe\">\n",
       "  <thead>\n",
       "    <tr style=\"text-align: right;\">\n",
       "      <th></th>\n",
       "      <th>Survived</th>\n",
       "      <th>Age</th>\n",
       "      <th>SibSp</th>\n",
       "      <th>Parch</th>\n",
       "      <th>Fare</th>\n",
       "      <th>Pclass_2</th>\n",
       "      <th>Pclass_3</th>\n",
       "      <th>Sex_male</th>\n",
       "      <th>Embarked_Q</th>\n",
       "      <th>Embarked_S</th>\n",
       "      <th>Title_officer</th>\n",
       "      <th>Title_royalty</th>\n",
       "    </tr>\n",
       "  </thead>\n",
       "  <tbody>\n",
       "    <tr>\n",
       "      <th>0</th>\n",
       "      <td>0</td>\n",
       "      <td>22.0</td>\n",
       "      <td>1</td>\n",
       "      <td>0</td>\n",
       "      <td>7.2500</td>\n",
       "      <td>0</td>\n",
       "      <td>1</td>\n",
       "      <td>1</td>\n",
       "      <td>0</td>\n",
       "      <td>1</td>\n",
       "      <td>0</td>\n",
       "      <td>0</td>\n",
       "    </tr>\n",
       "    <tr>\n",
       "      <th>1</th>\n",
       "      <td>1</td>\n",
       "      <td>38.0</td>\n",
       "      <td>1</td>\n",
       "      <td>0</td>\n",
       "      <td>71.2833</td>\n",
       "      <td>0</td>\n",
       "      <td>0</td>\n",
       "      <td>0</td>\n",
       "      <td>0</td>\n",
       "      <td>0</td>\n",
       "      <td>0</td>\n",
       "      <td>0</td>\n",
       "    </tr>\n",
       "  </tbody>\n",
       "</table>\n",
       "</div>"
      ],
      "text/plain": [
       "   Survived   Age  SibSp  Parch     Fare  Pclass_2  Pclass_3  Sex_male  \\\n",
       "0         0  22.0      1      0   7.2500         0         1         1   \n",
       "1         1  38.0      1      0  71.2833         0         0         0   \n",
       "\n",
       "   Embarked_Q  Embarked_S  Title_officer  Title_royalty  \n",
       "0           0           1              0              0  \n",
       "1           0           0              0              0  "
      ]
     },
     "execution_count": 17,
     "metadata": {},
     "output_type": "execute_result"
    }
   ],
   "source": [
    "# Print data after applying the preprocess() function to check how the function is working\n",
    "preprocess(train).head(2)"
   ]
  },
  {
   "cell_type": "markdown",
   "metadata": {},
   "source": [
    "# 3. Data Exploration and Feature Engeneering\n",
    "On this step, we will explore the data and create new features based on the ones present in the raw data.\n",
    "\n",
    "We will look for patterns in the data and relationship between columns. Let's start exploring the `Age` column. As this column is numeric, we will split it into bins, and check the mean of the `Survival` column for each bin. This way, we will be able to see if the probability to survive was higher (or lower) for specific age groups.\n",
    "\n",
    "## The Age Column"
   ]
  },
  {
   "cell_type": "code",
   "execution_count": 18,
   "metadata": {},
   "outputs": [
    {
     "data": {
      "image/png": "[encoded data removed]",
      "text/plain": [
       "<Figure size 720x288 with 1 Axes>"
      ]
     },
     "metadata": {
      "needs_background": "light"
     },
     "output_type": "display_data"
    }
   ],
   "source": [
    "# Create a new Series called Age_categorical, with 9 bins.\n",
    "import numpy as np\n",
    "import matplotlib.pyplot as plt\n",
    "cut_points = [-1, 5, 12, 17, 29, 39, 49, 59, 69, 80]\n",
    "cut_labels = ['infant', 'child', 'teenager', '20s', '30s', '40s', '50s', '60s', '70+']\n",
    "age_categorical = pd.cut(x=train['Age'], bins=cut_points, labels=cut_labels)\n",
    "pivot_age = pd.pivot_table(data=train, index=age_categorical, values='Survived', aggfunc=np.mean)\n",
    "\n",
    "# Plot the age_categorical column with the mean survival rate per bin\n",
    "pivot_age.plot(kind='bar', figsize=(10,4))\n",
    "plt.show()"
   ]
  },
  {
   "cell_type": "markdown",
   "metadata": {},
   "source": [
    "Looking at the probability to survive per age category, we see that the relationship seems to be non-linear. Besides, it does not look like it would fit into an s-shaped form. Therefore, let's reduce the number of bins according to the distribution and turn `Age` into a categorical column.\n",
    "\n",
    "We should not forget that in the data cleaning phase, we converted all missing values to `-1`. Let's convert `-1` into missing values. Based on the distribution above, let's create a column `Age_categorical` with the following categories:\n",
    "- Missing: considering the `-1` values\n",
    "- Infant: 0-5\n",
    "- Child: 6-12\n",
    "- Teenager: 13-17\n",
    "- Young Adult: 18-39\n",
    "- Adult: 40-59\n",
    "- Senior: 60-80\n",
    "\n",
    "Below we define a new function to create this column, convert the categories into dummies and remove the original `Age` column."
   ]
  },
  {
   "cell_type": "code",
   "execution_count": 19,
   "metadata": {},
   "outputs": [],
   "source": [
    "# Create a function to create the new column Age_categorical\n",
    "def Age_categorical(df):\n",
    "    '''Create a new function that accepts a dataframe as input, converts the Age column into a categorical\n",
    "    variable, convert the categories in dummy variables and removes the original Age column.'''\n",
    "    cut_points = [-5, -1, 5, 12, 17, 39, 59, 80]\n",
    "    cut_labels = ['missing', 'infant', 'child', 'teenager', 'young adult', 'adult', 'senior']\n",
    "    df['Age_categorical'] = pd.cut(x=df['Age'], bins=cut_points, labels=cut_labels)\n",
    "    dummies = pd.get_dummies(data=df['Age_categorical'], prefix='Age', drop_first=True)\n",
    "    df = pd.concat([df, dummies], axis=1)\n",
    "    df = df.drop('Age_categorical', axis=1)\n",
    "    df = df.drop('Age', axis=1)\n",
    "    return df"
   ]
  },
  {
   "cell_type": "markdown",
   "metadata": {},
   "source": [
    "## The SibSp and Parch Columns\n",
    "`SibSp` stands for the number of siblings and spouses onboard. The `Parch` column includes the number of parents and children. Let's explore these two columns.\n",
    "\n",
    "Let's start by checking on variable types and distribution."
   ]
  },
  {
   "cell_type": "code",
   "execution_count": 20,
   "metadata": {},
   "outputs": [
    {
     "data": {
      "text/plain": [
       "SibSp    int64\n",
       "Parch    int64\n",
       "dtype: object"
      ]
     },
     "execution_count": 20,
     "metadata": {},
     "output_type": "execute_result"
    }
   ],
   "source": [
    "# Check dtypes\n",
    "train[['SibSp', 'Parch']].dtypes"
   ]
  },
  {
   "cell_type": "code",
   "execution_count": 21,
   "metadata": {
    "scrolled": true
   },
   "outputs": [
    {
     "data": {
      "image/png": "[encoded data removed]",
      "text/plain": [
       "<Figure size 720x360 with 2 Axes>"
      ]
     },
     "metadata": {
      "needs_background": "light"
     },
     "output_type": "display_data"
    }
   ],
   "source": [
    "# Displaying the distribution of data on these columns\n",
    "plt.figure(figsize=(10,5))\n",
    "plt.subplot(211)\n",
    "train['SibSp'].plot(kind='hist', bins=30)\n",
    "plt.xlim(0,8)\n",
    "plt.title('Histogram: SibSP', fontsize=14)\n",
    "plt.subplot(212)\n",
    "train['Parch'].plot(kind='hist', bins=30)\n",
    "plt.xlim(0,8)\n",
    "plt.title('Histogram: Parch', fontsize=14)\n",
    "plt.show()"
   ]
  },
  {
   "cell_type": "markdown",
   "metadata": {},
   "source": [
    "The two variables have a very similar distribution, concentrated on the lowest values, especially 0s and 1s. Let's now calculate how these columns are related to survival."
   ]
  },
  {
   "cell_type": "code",
   "execution_count": 22,
   "metadata": {
    "scrolled": true
   },
   "outputs": [],
   "source": [
    "# Divide the columns in 5 bins and check the survival rate per bin\n",
    "bins = [-1, 0, 1, 2, 4, 8]\n",
    "labels = ['0', '1', '2', '3-4', '5+']\n",
    "sibsp_bins = pd.cut(train['SibSp'], bins=bins, labels=labels)\n",
    "parch_bins = pd.cut(train['Parch'], bins=bins, labels=labels)\n",
    "\n",
    "pivot_sibsp = pd.pivot_table(data=train, index=sibsp_bins, values='Survived')\n",
    "pivot_parch = pd.pivot_table(data=train, index=parch_bins, values='Survived')"
   ]
  },
  {
   "cell_type": "code",
   "execution_count": 23,
   "metadata": {},
   "outputs": [
    {
     "data": {
      "image/png": "[encoded data removed]",
      "text/plain": [
       "<Figure size 864x288 with 2 Axes>"
      ]
     },
     "metadata": {
      "needs_background": "light"
     },
     "output_type": "display_data"
    }
   ],
   "source": [
    "fig, (ax1, ax2) = plt.subplots(1, 2, figsize=(12,4))\n",
    "ax1.plot(pivot_sibsp)\n",
    "ax1.set_ylim(0,0.7)\n",
    "ax1.set_title('Survival Rate per SibSp Bin')\n",
    "\n",
    "ax2.plot(pivot_parch)\n",
    "ax2.set_ylim(0,0.7)\n",
    "ax2.set_title('Survival Rate per Parch Bin')\n",
    "\n",
    "plt.show()"
   ]
  },
  {
   "cell_type": "markdown",
   "metadata": {},
   "source": [
    "As we can see above, both columns have a very similar distribution. They start with a probability to survive slightly higher than 30% when passangers are alone, doubles when they travel with 1 person, and start going down, when the number of people increases.\n",
    "\n",
    "Let's check how much this two variables are correlated. We will keep the two is the correlation is lower than 70%."
   ]
  },
  {
   "cell_type": "code",
   "execution_count": 24,
   "metadata": {},
   "outputs": [
    {
     "data": {
      "text/html": [
       "<div>\n",
       "<style scoped>\n",
       "    .dataframe tbody tr th:only-of-type {\n",
       "        vertical-align: middle;\n",
       "    }\n",
       "\n",
       "    .dataframe tbody tr th {\n",
       "        vertical-align: top;\n",
       "    }\n",
       "\n",
       "    .dataframe thead th {\n",
       "        text-align: right;\n",
       "    }\n",
       "</style>\n",
       "<table border=\"1\" class=\"dataframe\">\n",
       "  <thead>\n",
       "    <tr style=\"text-align: right;\">\n",
       "      <th></th>\n",
       "      <th>SibSp</th>\n",
       "      <th>Parch</th>\n",
       "    </tr>\n",
       "  </thead>\n",
       "  <tbody>\n",
       "    <tr>\n",
       "      <th>SibSp</th>\n",
       "      <td>1.000000</td>\n",
       "      <td>0.414838</td>\n",
       "    </tr>\n",
       "    <tr>\n",
       "      <th>Parch</th>\n",
       "      <td>0.414838</td>\n",
       "      <td>1.000000</td>\n",
       "    </tr>\n",
       "  </tbody>\n",
       "</table>\n",
       "</div>"
      ],
      "text/plain": [
       "          SibSp     Parch\n",
       "SibSp  1.000000  0.414838\n",
       "Parch  0.414838  1.000000"
      ]
     },
     "execution_count": 24,
     "metadata": {},
     "output_type": "execute_result"
    }
   ],
   "source": [
    "# Check the correlation between SibSp and Parch\n",
    "train[['SibSp', 'Parch']].corr()"
   ]
  },
  {
   "cell_type": "markdown",
   "metadata": {},
   "source": [
    "Considering the correlation, let's keep both columns. Considering the similarities of the distributions of the two columns, let's create a new variable `Relatives` which will be the sum of the other two variables.\n",
    "\n",
    "### Create a New Variable Relatives"
   ]
  },
  {
   "cell_type": "code",
   "execution_count": 25,
   "metadata": {},
   "outputs": [
    {
     "data": {
      "image/png": "[encoded data removed]",
      "text/plain": [
       "<Figure size 1080x288 with 2 Axes>"
      ]
     },
     "metadata": {
      "needs_background": "light"
     },
     "output_type": "display_data"
    }
   ],
   "source": [
    "# Combining the two columns in one variable\n",
    "relatives = train['SibSp'] + train['Parch']\n",
    "\n",
    "# Display the probaility to Survive per relative group\n",
    "relatives_bins = pd.cut(relatives, bins=bins, labels=labels)\n",
    "pivot_relatives = pd.pivot_table(data=train, index=relatives_bins, values='Survived')\n",
    "\n",
    "fig, (ax1, ax2) = plt.subplots(1, 2, figsize=(15,4))\n",
    "ax1.hist(relatives)\n",
    "ax1.set_title('Histogram: Relatives Distribution.')\n",
    "\n",
    "ax2.plot(pivot_relatives)\n",
    "ax2.set_ylim(0,0.7)\n",
    "ax2.set_title('Survival Rate per Relatives Bin')\n",
    "\n",
    "plt.show()"
   ]
  },
  {
   "cell_type": "markdown",
   "metadata": {},
   "source": [
    "Similar to the results when we had the two variables separated, `Relatives` is right-skewed, highly concentrated with passangers traveling alone or with only one relative onboard. \n",
    "\n",
    "The relationship between the number of relatives and the probability to survive is not linear, and not s-shaped. Therefore, we may consider also binning this variable. Considering the relationship with survival rate, we will consider three bins:\n",
    "- 0 Relatives\n",
    "- 1-4 relatives\n",
    "- 5+ relatives"
   ]
  },
  {
   "cell_type": "code",
   "execution_count": 26,
   "metadata": {},
   "outputs": [],
   "source": [
    "# Define a function to create the Relatives column and convert it into dummy variables\n",
    "def create_Relatives(df):\n",
    "    '''This function will take a dataframe as input, create the new column relative, convert this new column into\n",
    "    a categorical variable with 3 bins, convert the categorical variable into dummies and drop the original numeric\n",
    "    relative column.'''\n",
    "    df['Relatives'] = df['SibSp'] + df['Parch']\n",
    "    df['Relatives'] = pd.cut(df['Relatives'], bins=[-1, 0, 4, 10], labels=['Alone', '1-4', '5+'])\n",
    "    dummies = pd.get_dummies(df['Relatives'], drop_first=True, prefix='Relatives')\n",
    "    df = pd.concat([df, dummies], axis=1)\n",
    "    df = df.drop('Relatives', axis=1)\n",
    "    return df"
   ]
  },
  {
   "cell_type": "markdown",
   "metadata": {},
   "source": [
    "Now, we will also define another function to transform SibSp and Parch into categorical variables.\n",
    "\n",
    "### Convert SibSp and Parch into Categorical Variables"
   ]
  },
  {
   "cell_type": "code",
   "execution_count": 27,
   "metadata": {},
   "outputs": [],
   "source": [
    "# Create a function to process SibSp and Parch\n",
    "def process_SibSp_Parch(df):\n",
    "    '''This function will take a dataframe as input and for each of the two columns SibSp and Parch: convert them\n",
    "    into a categorical variable with three bins, convert them into dummies and drop both the original numeric \n",
    "    column and the categorical variable, keeping only the dummies.'''\n",
    "    columns = ['SibSp', 'Parch']\n",
    "    for col in columns:\n",
    "        df[col+'_categorical'] = pd.cut(df[col], bins=[-1, 0, 2, 8], labels=['0', '1-2', '3+'])\n",
    "        dummies = pd.get_dummies(df[col+'_categorical'], drop_first=True, prefix=col)\n",
    "        df = pd.concat([df, dummies], axis=1)\n",
    "        df = df.drop([col, col+'_categorical'], axis=1)\n",
    "    return df"
   ]
  },
  {
   "cell_type": "markdown",
   "metadata": {},
   "source": [
    "Next, let's verify the `Fare` column.\n",
    "\n",
    "## The Fare Column\n",
    "This column is also numeric. Let's explore its distribution and relation with `Survived` to verify the best way to use it for modeling."
   ]
  },
  {
   "cell_type": "code",
   "execution_count": 28,
   "metadata": {},
   "outputs": [
    {
     "data": {
      "text/plain": [
       "dtype('float64')"
      ]
     },
     "execution_count": 28,
     "metadata": {},
     "output_type": "execute_result"
    }
   ],
   "source": [
    "# Check on the data type\n",
    "train.Fare.dtype"
   ]
  },
  {
   "cell_type": "code",
   "execution_count": 29,
   "metadata": {
    "scrolled": false
   },
   "outputs": [
    {
     "data": {
      "image/png": "[encoded data removed]",
      "text/plain": [
       "<Figure size 1080x288 with 2 Axes>"
      ]
     },
     "metadata": {
      "needs_background": "light"
     },
     "output_type": "display_data"
    }
   ],
   "source": [
    "# Verify data distribution and how it is related to survival\n",
    "# Divide Fare in 10 bins\n",
    "fare_bins = pd.cut(train['Fare'], bins=5)\n",
    "\n",
    "# Create a pivot with the survival rate per bin\n",
    "pivot_fare = pd.pivot_table(train, index=fare_bins, values='Survived', aggfunc='mean')\n",
    "\n",
    "f, (ax1, ax2) = plt.subplots(1, 2, figsize=(15,4))\n",
    "train['Fare'].plot(kind='hist', bins=30, ax=ax1)\n",
    "ax1.set_title('Histogram: Fare')\n",
    "\n",
    "pivot_fare.plot(ax=ax2)\n",
    "ax2.set_title('Probability of Survival by Fare Bin')\n",
    "plt.show()"
   ]
  },
  {
   "cell_type": "markdown",
   "metadata": {},
   "source": [
    "In the plots above we see that `Fare` is right-skewed, concentrated in its lower values.The distribution of the probability to survive by Fare bin ideally would have a s-shaped/sigmoid-like distribution. Although it is not s-shaped, we consider reasonable that the probability to survive grows quickly as the fare grows, stops growing, then grows again up to 1.\n",
    "\n",
    "Let's consider that the `Fare ` column might be adequate for modeling as a numeric variable. As all other columns are dummies, with 0s and 1s, let's rescale `Fare` keeping the distribution but making it range from 0 to 1."
   ]
  },
  {
   "cell_type": "code",
   "execution_count": 30,
   "metadata": {},
   "outputs": [
    {
     "data": {
      "text/plain": [
       "MinMaxScaler()"
      ]
     },
     "execution_count": 30,
     "metadata": {},
     "output_type": "execute_result"
    }
   ],
   "source": [
    "# Fit a scaler with the training data\n",
    "from sklearn.preprocessing import MinMaxScaler\n",
    "scaler = MinMaxScaler()\n",
    "scaler.fit(train[['Fare']])"
   ]
  },
  {
   "cell_type": "code",
   "execution_count": 31,
   "metadata": {},
   "outputs": [],
   "source": [
    "# Create a function that uses the the scaler and normalizes the Fare column\n",
    "def scale_Fare(df):\n",
    "    '''This function takes a dataframe and rescales the Fare column using MinMax with a range from 0 to 1.\n",
    "    It returns a new dataframe with the column Fare_scaled, removing the original Fare column.'''\n",
    "    df['Fare_scaled'] = scaler.transform(df[['Fare']])\n",
    "    df = df.drop('Fare', axis=1)\n",
    "    return df"
   ]
  },
  {
   "cell_type": "markdown",
   "metadata": {},
   "source": [
    "Now, let's update our `preprocess()` function including the transformations we conducted during exploration and feature engineering. "
   ]
  },
  {
   "cell_type": "code",
   "execution_count": 32,
   "metadata": {},
   "outputs": [],
   "source": [
    "# Update the preprocess() function including transformations we conducted during data exploration and feature engeneering.\n",
    "def preprocess(df):\n",
    "    '''This function takes a dataframe as input and applies the functions to remove some of the original columns,\n",
    "    deals with missing values and non-numeric columns. '''\n",
    "    df = remove_columns(df)\n",
    "    df = process_Embarked(df)\n",
    "    df = process_Fare(df)\n",
    "    df = process_Age(df)\n",
    "    df = process_Name(df)\n",
    "    df = convert_dummies(df)\n",
    "    df = Age_categorical(df)\n",
    "    df = create_Relatives(df)\n",
    "    df = process_SibSp_Parch(df)\n",
    "    df = scale_Fare(df)\n",
    "    return df"
   ]
  },
  {
   "cell_type": "markdown",
   "metadata": {},
   "source": [
    "See below the first rows of the training dataset after applying the `preprocess()` function."
   ]
  },
  {
   "cell_type": "code",
   "execution_count": 33,
   "metadata": {},
   "outputs": [
    {
     "data": {
      "text/html": [
       "<div>\n",
       "<style scoped>\n",
       "    .dataframe tbody tr th:only-of-type {\n",
       "        vertical-align: middle;\n",
       "    }\n",
       "\n",
       "    .dataframe tbody tr th {\n",
       "        vertical-align: top;\n",
       "    }\n",
       "\n",
       "    .dataframe thead th {\n",
       "        text-align: right;\n",
       "    }\n",
       "</style>\n",
       "<table border=\"1\" class=\"dataframe\">\n",
       "  <thead>\n",
       "    <tr style=\"text-align: right;\">\n",
       "      <th></th>\n",
       "      <th>Survived</th>\n",
       "      <th>Pclass_2</th>\n",
       "      <th>Pclass_3</th>\n",
       "      <th>Sex_male</th>\n",
       "      <th>Embarked_Q</th>\n",
       "      <th>Embarked_S</th>\n",
       "      <th>Title_officer</th>\n",
       "      <th>Title_royalty</th>\n",
       "      <th>Age_infant</th>\n",
       "      <th>Age_child</th>\n",
       "      <th>...</th>\n",
       "      <th>Age_young adult</th>\n",
       "      <th>Age_adult</th>\n",
       "      <th>Age_senior</th>\n",
       "      <th>Relatives_1-4</th>\n",
       "      <th>Relatives_5+</th>\n",
       "      <th>SibSp_1-2</th>\n",
       "      <th>SibSp_3+</th>\n",
       "      <th>Parch_1-2</th>\n",
       "      <th>Parch_3+</th>\n",
       "      <th>Fare_scaled</th>\n",
       "    </tr>\n",
       "  </thead>\n",
       "  <tbody>\n",
       "    <tr>\n",
       "      <th>0</th>\n",
       "      <td>0</td>\n",
       "      <td>0</td>\n",
       "      <td>1</td>\n",
       "      <td>1</td>\n",
       "      <td>0</td>\n",
       "      <td>1</td>\n",
       "      <td>0</td>\n",
       "      <td>0</td>\n",
       "      <td>0</td>\n",
       "      <td>0</td>\n",
       "      <td>...</td>\n",
       "      <td>1</td>\n",
       "      <td>0</td>\n",
       "      <td>0</td>\n",
       "      <td>1</td>\n",
       "      <td>0</td>\n",
       "      <td>1</td>\n",
       "      <td>0</td>\n",
       "      <td>0</td>\n",
       "      <td>0</td>\n",
       "      <td>0.014151</td>\n",
       "    </tr>\n",
       "    <tr>\n",
       "      <th>1</th>\n",
       "      <td>1</td>\n",
       "      <td>0</td>\n",
       "      <td>0</td>\n",
       "      <td>0</td>\n",
       "      <td>0</td>\n",
       "      <td>0</td>\n",
       "      <td>0</td>\n",
       "      <td>0</td>\n",
       "      <td>0</td>\n",
       "      <td>0</td>\n",
       "      <td>...</td>\n",
       "      <td>1</td>\n",
       "      <td>0</td>\n",
       "      <td>0</td>\n",
       "      <td>1</td>\n",
       "      <td>0</td>\n",
       "      <td>1</td>\n",
       "      <td>0</td>\n",
       "      <td>0</td>\n",
       "      <td>0</td>\n",
       "      <td>0.139136</td>\n",
       "    </tr>\n",
       "  </tbody>\n",
       "</table>\n",
       "<p>2 rows × 21 columns</p>\n",
       "</div>"
      ],
      "text/plain": [
       "   Survived  Pclass_2  Pclass_3  Sex_male  Embarked_Q  Embarked_S  \\\n",
       "0         0         0         1         1           0           1   \n",
       "1         1         0         0         0           0           0   \n",
       "\n",
       "   Title_officer  Title_royalty  Age_infant  Age_child  ...  Age_young adult  \\\n",
       "0              0              0           0          0  ...                1   \n",
       "1              0              0           0          0  ...                1   \n",
       "\n",
       "   Age_adult  Age_senior  Relatives_1-4  Relatives_5+  SibSp_1-2  SibSp_3+  \\\n",
       "0          0           0              1             0          1         0   \n",
       "1          0           0              1             0          1         0   \n",
       "\n",
       "   Parch_1-2  Parch_3+  Fare_scaled  \n",
       "0          0         0     0.014151  \n",
       "1          0         0     0.139136  \n",
       "\n",
       "[2 rows x 21 columns]"
      ]
     },
     "execution_count": 33,
     "metadata": {},
     "output_type": "execute_result"
    }
   ],
   "source": [
    "# Display first rows of train dataset after applying the preprocess() function\n",
    "preprocess(train).head(2)"
   ]
  },
  {
   "cell_type": "markdown",
   "metadata": {},
   "source": [
    "# 4. Feature selection\n",
    "During this step we will first check for collinearity among predictors and remove the ones that are highly correlated with each other. Then, we will use scikit-learn's feature_selection.RFECV class to automate selecting the best-performing features using recursive feature elimination.\n",
    "\n",
    "Let's start by checking for collinearity among the features."
   ]
  },
  {
   "cell_type": "markdown",
   "metadata": {},
   "source": [
    "## Identifying Features which May be Highly Correlated"
   ]
  },
  {
   "cell_type": "code",
   "execution_count": 34,
   "metadata": {},
   "outputs": [
    {
     "data": {
      "image/png": "[encoded data removed]",
      "text/plain": [
       "<Figure size 720x432 with 2 Axes>"
      ]
     },
     "metadata": {
      "needs_background": "light"
     },
     "output_type": "display_data"
    }
   ],
   "source": [
    "# Display a heatmap with correlation among the features\n",
    "feature_correlations = preprocess(train).iloc[:, 1:].corr().abs()\n",
    "\n",
    "import seaborn as sns\n",
    "plt.figure(figsize=(10,6))\n",
    "sns.heatmap(feature_correlations, cmap=\"rocket_r\")\n",
    "plt.show()"
   ]
  },
  {
   "cell_type": "markdown",
   "metadata": {},
   "source": [
    "The highest correlations among features are between:\n",
    "- Relatives_1-4 and SibSp_1-2 (**79%**)\n",
    "- Relatives_5+ and SibSp_3+ (**78%**)\n",
    "- Pclass_2 and Pclass_3 (**57%**)\n",
    "- Relatives_1-4 and Parch_1-2 (**53%**)\n",
    "\n",
    "Based on this results let's remove 4 columns to reduce multicollinearity:\n",
    "- SibSp_1-2\n",
    "- SibSp_3+\n",
    "- Pclass_2\n",
    "- Parch_1-2"
   ]
  },
  {
   "cell_type": "code",
   "execution_count": 35,
   "metadata": {},
   "outputs": [],
   "source": [
    "# Create a function that removes these 4 columns from the data\n",
    "def remove_correlated(df):\n",
    "    '''This function takes a dataframe as input and removes 4 columns: SibSp_1-2, SibSp_3+, Pclass_2 and Parch_1-2.\n",
    "    It returns a new dataframe without excluding these four columns.'''\n",
    "    df = df.drop(['SibSp_1-2', 'SibSp_3+', 'Pclass_2', 'Parch_1-2'], axis=1)\n",
    "    return df"
   ]
  },
  {
   "cell_type": "markdown",
   "metadata": {},
   "source": [
    "Let's update the preprocess function removing these 4 columns."
   ]
  },
  {
   "cell_type": "code",
   "execution_count": 36,
   "metadata": {},
   "outputs": [],
   "source": [
    "# Update the preprocess() function to remove the 4 columns to avoid collinearity among features\n",
    "def preprocess(df):\n",
    "    '''This function takes a dataframe as input and applies the functions to remove some of the original columns,\n",
    "    deals with missing values and non-numeric columns. '''\n",
    "    df = remove_columns(df)\n",
    "    df = process_Embarked(df)\n",
    "    df = process_Fare(df)\n",
    "    df = process_Age(df)\n",
    "    df = process_Name(df)\n",
    "    df = convert_dummies(df)\n",
    "    df = Age_categorical(df)\n",
    "    df = create_Relatives(df)\n",
    "    df = process_SibSp_Parch(df)\n",
    "    df = scale_Fare(df)\n",
    "    df = remove_correlated(df)\n",
    "    return df"
   ]
  },
  {
   "cell_type": "markdown",
   "metadata": {},
   "source": [
    "## Recursive Feature Elimination with Cross Validation\n",
    "With recursive feature elimination we can test multiple models with different combinations of features. For each combination, we measure the predictive accuracy of the model. At the end, we identify the combination of features that provided the best performance using cross validation.\n",
    "\n",
    "To be able to do this, we will use a class from scikitt-learn called `RFECV` (aka Recursive Feature Elimination with Cross Validation).\n",
    "\n",
    "Let's write a function that:\n",
    "- Accepts a dataframe as input\n",
    "- Applies all data preprocessing transformations to prepare data for Machine Learninng\n",
    "- Uses recursive feature elimination and the Logistic Regression algorithm to find the best-performing set of features"
   ]
  },
  {
   "cell_type": "code",
   "execution_count": 37,
   "metadata": {},
   "outputs": [],
   "source": [
    "# Import the functions\n",
    "from sklearn.feature_selection import RFECV\n",
    "from sklearn.linear_model import LogisticRegression"
   ]
  },
  {
   "cell_type": "code",
   "execution_count": 38,
   "metadata": {},
   "outputs": [],
   "source": [
    "# Create a new function select_features\n",
    "def select_features (df):\n",
    "    '''Accepts a dataframe as input, applies the preprocess() function to prepare data for Machine Learning, create all_X \n",
    "    with all features but Survived, and all_y with Survived, use RFECV with Logistic Regression to perform recursive\n",
    "    feature elimination with random_state 45 and 10-fold cross validation. Return a list with the best columns.'''\n",
    "    df = preprocess(df)\n",
    "    all_X = df.drop('Survived', axis=1)\n",
    "    all_y = df['Survived']\n",
    "    lr = LogisticRegression(random_state=45, max_iter=1000)\n",
    "    selector = RFECV(lr, cv=10)\n",
    "    selector.fit(all_X, all_y)\n",
    "    return list(all_X.columns[selector.support_])"
   ]
  },
  {
   "cell_type": "code",
   "execution_count": 39,
   "metadata": {},
   "outputs": [
    {
     "name": "stdout",
     "output_type": "stream",
     "text": [
      "['Pclass_3', 'Sex_male', 'Embarked_S', 'Title_officer', 'Title_royalty', 'Age_infant', 'Age_child', 'Age_teenager', 'Age_young adult', 'Age_adult', 'Age_senior', 'Relatives_5+', 'Parch_3+', 'Fare_scaled']\n"
     ]
    }
   ],
   "source": [
    "# Now let's use the select_features function on the train dataset and save the best combination of features on a new variable\n",
    "selected_features = select_features(train)\n",
    "print(selected_features)"
   ]
  },
  {
   "cell_type": "markdown",
   "metadata": {},
   "source": [
    "Now we have the function `select_features()` which already includes the function `preprocessing()`. It accepts a dataframe, performs all data preparation for Machine Learning and returns the best set of features after Recursive Feature Elimination.\n",
    "\n",
    "The next step is to find the best model and hyperparameters.\n",
    "\n",
    "# 5. Model selection and hyperparameter tuning\n",
    "The function we'll create will use three different algorithms and grid search to train using different combinations of hyperparameters to find the best performing model.\n",
    "\n",
    "I considered three algorithms for modeling. Each of them was tested with different combinations of [hyperparameters](https://en.wikipedia.org/wiki/Hyperparameter_(machine_learning)). Click below in the links for more information on each of the three algorithms:\n",
    "- [Logistic Regression](https://en.wikipedia.org/wiki/Logistic_regression#:~:text=Logistic%20regression%20is%20a%20statistical,a%20form%20of%20binary%20regression)\n",
    "- [K-neirest Neighbors](https://en.wikipedia.org/wiki/K-nearest_neighbors_algorithm)\n",
    "- [Random Forest](https://en.wikipedia.org/wiki/Random_forest#:~:text=Random%20forests%20or%20random%20decision,decision%20trees%20at%20training%20time.&text=Random%20forests%20generally%20outperform%20decision,lower%20than%20gradient%20boosted%20trees.)"
   ]
  },
  {
   "cell_type": "code",
   "execution_count": 40,
   "metadata": {},
   "outputs": [],
   "source": [
    "# Import classes\n",
    "from sklearn.model_selection import GridSearchCV\n",
    "from sklearn.linear_model import LogisticRegression\n",
    "from sklearn.neighbors import KNeighborsClassifier\n",
    "from sklearn.ensemble import RandomForestClassifier"
   ]
  },
  {
   "cell_type": "code",
   "execution_count": 41,
   "metadata": {},
   "outputs": [],
   "source": [
    "# Create a function select_model()\n",
    "def select_model(df):\n",
    "    '''This function takes a dataframe as input, applies the preprocess() function to prepare it for Machine Learning,\n",
    "    applies the select_features() function to find the best combination of features.Then, it applies grid search to the \n",
    "    preprocessed data frame, comparing different models and hyperparameters. Finally, it returns a dictionary that shows\n",
    "    for each model evaluated, the best combination of hyperparameters and the best score.'''\n",
    "    features = select_features(df) # Defines the best combination of features\n",
    "    df = preprocess(df) # Prepares the dataframe for Machine Learning\n",
    "    all_X = df[features]\n",
    "    all_y = df['Survived']\n",
    "    # Create a dictionary with the models names, estimators and hyperparameters to be tested\n",
    "    model_list = [{\n",
    "    \"name\": \"LogisticRegression\",\n",
    "    \"estimator\": LogisticRegression(max_iter=1000, random_state=45),\n",
    "    \"hyperparameters\":\n",
    "        {\n",
    "            \"solver\": [\"newton-cg\", \"lbfgs\", \"liblinear\"]\n",
    "        }},{\n",
    "    \"name\": \"KNeighborsClassifier\",\n",
    "    \"estimator\": KNeighborsClassifier(),\n",
    "    \"hyperparameters\":\n",
    "        {\n",
    "            \"n_neighbors\": range(1,20,2),\n",
    "            \"weights\": [\"distance\", \"uniform\"],\n",
    "            \"algorithm\": [\"ball_tree\", \"kd_tree\", \"brute\"],\n",
    "            \"p\": [1,2]\n",
    "        }},\n",
    "        {\n",
    "    \"name\": \"RandomForestClassifier\",\n",
    "    \"estimator\": RandomForestClassifier(random_state=45),\n",
    "    \"hyperparameters\":\n",
    "        {\n",
    "            \"n_estimators\": [4, 6, 9],\n",
    "            \"criterion\": [\"entropy\", \"gini\"],\n",
    "            \"max_depth\": [2, 5, 10],\n",
    "            \"max_features\": [\"log2\", \"sqrt\"],\n",
    "            \"min_samples_leaf\": [1, 5, 8],\n",
    "            \"min_samples_split\": [2, 3, 5]\n",
    "        }}] \n",
    "    import warnings\n",
    "    warnings.filterwarnings(\"ignore\", category=DeprecationWarning) \n",
    "    for m in model_list:\n",
    "        print(m['name'])\n",
    "        gs = GridSearchCV(estimator=m['estimator'], param_grid=m['hyperparameters'], cv=10)\n",
    "        gs.fit(all_X, all_y)\n",
    "        m['best_parameters']=gs.best_params_\n",
    "        m['best_score']=gs.best_score_\n",
    "        m['best_estimator']=gs.best_estimator_\n",
    "        print(m['best_parameters'], m['best_score'])\n",
    "        \n",
    "    return model_list"
   ]
  },
  {
   "cell_type": "code",
   "execution_count": 42,
   "metadata": {
    "scrolled": false
   },
   "outputs": [
    {
     "name": "stdout",
     "output_type": "stream",
     "text": [
      "LogisticRegression\n",
      "{'solver': 'liblinear'} 0.8136828963795256\n",
      "KNeighborsClassifier\n",
      "{'algorithm': 'brute', 'n_neighbors': 15, 'p': 1, 'weights': 'uniform'} 0.830561797752809\n",
      "RandomForestClassifier\n",
      "{'criterion': 'entropy', 'max_depth': 5, 'max_features': 'log2', 'min_samples_leaf': 1, 'min_samples_split': 5, 'n_estimators': 9} 0.8249188514357053\n"
     ]
    }
   ],
   "source": [
    "# Run the new function on the training data and save the gscv_results dictionary with final results as a new variable\n",
    "gscv_results = select_model(train)"
   ]
  },
  {
   "cell_type": "markdown",
   "metadata": {},
   "source": [
    "As we can see above, the best performing model was the K-nearest Neighbors Classifier reaching a 0.83 accuracy score, below the best parameters to train the model."
   ]
  },
  {
   "cell_type": "code",
   "execution_count": 43,
   "metadata": {
    "scrolled": true
   },
   "outputs": [
    {
     "name": "stdout",
     "output_type": "stream",
     "text": [
      "KNeighborsClassifier\n",
      "Best Score:  0.830561797752809\n",
      "Best Hyperparameters Combination:  {'algorithm': 'brute', 'n_neighbors': 15, 'p': 1, 'weights': 'uniform'}\n"
     ]
    }
   ],
   "source": [
    "# Print best estimator name, parameters and scores and save them in a new variable as a dictionary\n",
    "knn_dict = gscv_results[1]\n",
    "print(knn_dict['name'])\n",
    "print('Best Score: ', knn_dict['best_score']), '\\n'\n",
    "print('Best Hyperparameters Combination: ', knn_dict['best_parameters'])"
   ]
  },
  {
   "cell_type": "code",
   "execution_count": 44,
   "metadata": {
    "scrolled": true
   },
   "outputs": [
    {
     "name": "stdout",
     "output_type": "stream",
     "text": [
      "KNeighborsClassifier(algorithm='brute', n_neighbors=15, p=1)\n"
     ]
    }
   ],
   "source": [
    "# Save the best estimator in a new variable\n",
    "knn_best_estimator = knn_dict['best_estimator']\n",
    "print(knn_best_estimator)"
   ]
  },
  {
   "cell_type": "markdown",
   "metadata": {},
   "source": [
    "We stored our best model in the variable `knn_best_estimator`. It reached the accuracy of 83%. K-neighbors is an algorithm based on distances. It takes a new passanger to be classified, calculates the distance against each of the passangers in the training set, and finds the nearest neighbors, in our case, the nearest 15 passangers. Finally, it predicts Survival based on the survival rate among the neighbor passangers. If most neighbor passangers survived, the model will predict survival, and vice versa.\n",
    "\n",
    "The KNN algorithm tends to behave well with small datasets, as it is the case in this project."
   ]
  },
  {
   "cell_type": "markdown",
   "metadata": {},
   "source": [
    "# 6. Final Model\n",
    "The final step is to train our final model using all data available in our training set. This will allow us to use all data available for model training, before we make predictions with unseen data."
   ]
  },
  {
   "cell_type": "code",
   "execution_count": 45,
   "metadata": {},
   "outputs": [
    {
     "data": {
      "text/plain": [
       "KNeighborsClassifier(algorithm='brute', n_neighbors=15, p=1)"
      ]
     },
     "execution_count": 45,
     "metadata": {},
     "output_type": "execute_result"
    }
   ],
   "source": [
    "# Preprocess the full training data and split it into features (X) and target (y), considering the selected features\n",
    "X_final = preprocess(train)[selected_features]\n",
    "y_final = preprocess(train)['Survived']\n",
    "\n",
    "# Train the final model with the full training dataset available\n",
    "knn_best_estimator.fit(X_final, y_final)\n",
    "knn_best_estimator"
   ]
  },
  {
   "cell_type": "markdown",
   "metadata": {},
   "source": [
    "# Create a File with the Predictions of Survival for our Holdout Dataset\n",
    "Now we have a final model that was trained with our full training data. Let's use it to make predictions to our test set, that we renamed to `holdout`."
   ]
  },
  {
   "cell_type": "code",
   "execution_count": 46,
   "metadata": {},
   "outputs": [],
   "source": [
    "# Create a function that takes a new test/holdout dataset and the trained model and returns a file with the predictions.\n",
    "def save_submission_file(df, trained_model, file_name='submission_file.csv'):\n",
    "    ''''''\n",
    "    X = preprocess(df)[selected_features]\n",
    "    predictions = trained_model.predict(X)\n",
    "    submission = pd.DataFrame({'PassengerId':df['PassengerId'], 'Survived': predictions})\n",
    "    submission.to_csv(file_name, index=False)"
   ]
  },
  {
   "cell_type": "markdown",
   "metadata": {},
   "source": [
    "Now, let's use this function to create a file with the predictions and save it as a `.csv` file called `submission_final.csv`.\n",
    "We will also read the first rows of the predictions."
   ]
  },
  {
   "cell_type": "code",
   "execution_count": 47,
   "metadata": {},
   "outputs": [],
   "source": [
    "# Uncomment the code below to save a new file with the predictions locally\n",
    "# save_submission_file(holdout, knn_best_estimator, file_name='submission_final.csv')"
   ]
  },
  {
   "cell_type": "markdown",
   "metadata": {},
   "source": [
    "Running the code above will automatically save the submission file locally in the same directory you have your notebook.\n",
    "\n",
    "# Conclusion\n",
    "The objective of this project was to provide a workflow on how to approach Kaggle competitions. The workflow includes a sequence of 7 steps that starts with the definition of a clear objective, and ends with the submission of the final predictions to Kaggle.\n",
    "\n",
    "We did this using the famous Titanic competition. We built a model to predict passanger survival according to their personal characteristics. The final model reached the accuracy of 83%.\n",
    "\n",
    "I hope you found the project interesting. Please, do share your suggestions and ideas, they are more than welcome."
   ]
  },
  {
   "cell_type": "markdown",
   "metadata": {},
   "source": [
    "\n",
    "\n",
    "*Author: David Rodrigues* | https://www.linkedin.com/in/davidrodrigues/ | davidrodriguessp@hotmail.com | https://github.com/davidrodriguessp"
   ]
  }
 ],
 "metadata": {
  "kernelspec": {
   "display_name": "Python 3",
   "language": "python",
   "name": "python3"
  },
  "language_info": {
   "codemirror_mode": {
    "name": "ipython",
    "version": 3
   },
   "file_extension": ".py",
   "mimetype": "text/x-python",
   "name": "python",
   "nbconvert_exporter": "python",
   "pygments_lexer": "ipython3",
   "version": "3.8.3"
  }
 },
 "nbformat": 4,
 "nbformat_minor": 2
}
